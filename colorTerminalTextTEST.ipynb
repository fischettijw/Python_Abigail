{
 "cells": [
  {
   "cell_type": "code",
   "execution_count": 10,
   "metadata": {},
   "outputs": [],
   "source": [
    "from colorTerminalText import *"
   ]
  },
  {
   "cell_type": "code",
   "execution_count": 11,
   "metadata": {},
   "outputs": [
    {
     "name": "stdout",
     "output_type": "stream",
     "text": [
      "This is BEFORE colors\n",
      "\u001b[38;2;255;0;0m This should be RED!\n",
      "It will continue to be RED \u001b[39m\n",
      "until it's reset.\n"
     ]
    }
   ],
   "source": [
    "print(\"This is BEFORE colors\")\n",
    "print(clr_red, 'This should be RED!')\n",
    "print('It will continue to be RED', fg.rs)\n",
    "print(\"until it's reset.\")"
   ]
  },
  {
   "cell_type": "code",
   "execution_count": 20,
   "metadata": {},
   "outputs": [
    {
     "name": "stdout",
     "output_type": "stream",
     "text": [
      "\u001b[38;2;78;236;7m This is a RANDOM Color\n",
      "\u001b[48;2;105;150;120m This is a RANDOM Background\n"
     ]
    }
   ],
   "source": [
    "print(fgRandom(), \"This is a RANDOM Color\")\n",
    "print(bgRandom(), \"This is a RANDOM Background\")"
   ]
  }
 ],
 "metadata": {
  "interpreter": {
   "hash": "288070398f45af6aae33d529c7e9db1ce79ecc667978a0f3e9983dc28be894b0"
  },
  "kernelspec": {
   "display_name": "Python 3.10.0 64-bit",
   "language": "python",
   "name": "python3"
  },
  "language_info": {
   "codemirror_mode": {
    "name": "ipython",
    "version": 3
   },
   "file_extension": ".py",
   "mimetype": "text/x-python",
   "name": "python",
   "nbconvert_exporter": "python",
   "pygments_lexer": "ipython3",
   "version": "3.10.0"
  },
  "orig_nbformat": 4
 },
 "nbformat": 4,
 "nbformat_minor": 2
}
