{
 "cells": [
  {
   "cell_type": "code",
   "execution_count": 37,
   "metadata": {},
   "outputs": [],
   "source": [
    "# RGB Color Wheel    https://www.colorspire.com/rgb-color-wheel/\n",
    "# RGB Color Names    https://flaviocopes.com/rgb-color-codes/\n",
    "# Snippet Generator  https://snippet-generator.app/\n",
    "# STY Color Names    https://sty.mewo.dev/docs/coloring.html"
   ]
  },
  {
   "cell_type": "code",
   "execution_count": 38,
   "metadata": {},
   "outputs": [],
   "source": [
    "from sty import fg, bg\n",
    "\n",
    "clr_red = fg(255, 0, 0)\n",
    "clr_green = fg(0, 255, 0)\n",
    "clr_blue = fg(0, 0, 255)\n",
    "clr_magenta = fg(255, 0, 255)\n",
    "clr_yellow = fg(255, 255, 0)\n",
    "clr_cyan = fg(0, 255, 255)\n",
    "\n",
    "clr_black = fg(0,0,0)\n",
    "clr_white = fg(255,255,255)\n",
    "\n",
    "import random\n",
    "from random import randint as rnd\n",
    "\n",
    "def fgRandom():\n",
    "    return fg(rnd(0,255),rnd(0,255),rnd(0,255))\n",
    "\n",
    "def bgRandom():\n",
    "    return bg(rnd(0,255),rnd(0,255),rnd(0,255))"
   ]
  },
  {
   "cell_type": "code",
   "execution_count": 39,
   "metadata": {},
   "outputs": [
    {
     "name": "stdout",
     "output_type": "stream",
     "text": [
      "\u001b[38;2;255;0;255m This is MAGENTA \u001b[39m\n",
      "\u001b[38;2;255;0;0m This is RED \u001b[39m\n",
      "\u001b[38;2;255;0;255m This is MAGENTA \u001b[39m\n",
      "\u001b[38;2;255;255;0m This is YELLOW \u001b[39m\n",
      "\u001b[38;2;0;255;255m This is CYAN \u001b[39m\n",
      "\u001b[38;2;0;0;0m This is BLACK \u001b[39m\n",
      "\u001b[38;2;255;255;255m This is WHITE \u001b[39m\n",
      "\u001b[38;2;87;119;168m Random Foreground \u001b[39m\n",
      "\u001b[48;2;224;214;91mRandom Background\u001b[49m\n",
      "\u001b[38;2;112;43;15m \u001b[48;2;28;76;255m This is a test \u001b[39m \u001b[49m\n"
     ]
    }
   ],
   "source": [
    "print(fg(255, 0, 255), \"This is MAGENTA\", fg.rs)\n",
    "print(clr_red, \"This is RED\", fg.rs)\n",
    "print(clr_magenta, \"This is MAGENTA\", fg.rs)\n",
    "print(clr_yellow, \"This is YELLOW\", fg.rs)\n",
    "print(clr_cyan, \"This is CYAN\", fg.rs)\n",
    "print(clr_black, \"This is BLACK\", fg.rs)\n",
    "print(clr_white, \"This is WHITE\", fg.rs)\n",
    "print(fgRandom(), \"Random Foreground\", fg.rs)\n",
    "print(bgRandom() + \"Random Background\" + bg.rs)\n",
    "print(fgRandom(),bgRandom(), \"This is a test\", fg.rs, bg.rs)"
   ]
  }
 ],
 "metadata": {
  "interpreter": {
   "hash": "0fa967826f0dff7bf43157b69b27c7e94f9cd8758e5f7e883b18ae704008f0e9"
  },
  "kernelspec": {
   "display_name": "Python 3.9.4 64-bit",
   "language": "python",
   "name": "python3"
  },
  "language_info": {
   "codemirror_mode": {
    "name": "ipython",
    "version": 3
   },
   "file_extension": ".py",
   "mimetype": "text/x-python",
   "name": "python",
   "nbconvert_exporter": "python",
   "pygments_lexer": "ipython3",
   "version": "3.10.0"
  },
  "orig_nbformat": 4
 },
 "nbformat": 4,
 "nbformat_minor": 2
}
