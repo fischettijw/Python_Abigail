{
 "cells": [
  {
   "cell_type": "code",
   "execution_count": 70,
   "metadata": {},
   "outputs": [],
   "source": [
    "%reload_ext autoreload\n",
    "%autoreload 2\n",
    "\n",
    "from print_in_color import *"
   ]
  },
  {
   "cell_type": "code",
   "execution_count": 67,
   "metadata": {},
   "outputs": [
    {
     "name": "stdout",
     "output_type": "stream",
     "text": [
      "\u001b[38;2;255;0;255mthis is magenta text\n",
      "still magenta\n",
      "\u001b[39mnow its normal\n"
     ]
    }
   ],
   "source": [
    "print(clr_fg_magenta + \"this is magenta text\")\n",
    "print(\"still magenta\")\n",
    "print(clr_fg_reset + \"now its normal\")"
   ]
  },
  {
   "cell_type": "code",
   "execution_count": 68,
   "metadata": {},
   "outputs": [
    {
     "name": "stdout",
     "output_type": "stream",
     "text": [
      "\u001b[38;2;126;80;242mhi\n",
      "\u001b[38;2;82;121;252mhi\n",
      "\u001b[38;2;110;95;240mhi\n",
      "\u001b[38;2;106;100;253mhi\n",
      "\u001b[38;2;101;154;254mhi\n",
      "\u001b[38;2;75;79;246mhi\n",
      "\u001b[38;2;75;127;253mhi\n",
      "\u001b[38;2;93;165;252mhi\n",
      "\u001b[38;2;112;181;245mhi\n",
      "\u001b[38;2;96;152;244mhi\n",
      "\u001b[38;2;122;148;254mhi\n",
      "\u001b[38;2;81;186;250mhi\n",
      "\u001b[38;2;128;92;241mhi\n",
      "\u001b[38;2;122;163;253mhi\n",
      "\u001b[38;2;104;105;249mhi\n",
      "\u001b[38;2;87;93;246mhi\n",
      "\u001b[38;2;123;192;241mhi\n",
      "\u001b[38;2;126;70;247mhi\n",
      "\u001b[38;2;68;181;246mhi\n",
      "\u001b[38;2;87;162;247mhi\n"
     ]
    }
   ],
   "source": [
    "for i in range(20):\n",
    "    print(fg_shade(\"blue\") + \"hi\")"
   ]
  },
  {
   "cell_type": "code",
   "execution_count": 99,
   "metadata": {},
   "outputs": [
    {
     "name": "stdout",
     "output_type": "stream",
     "text": [
      "\u001b[38;2;133;88;137mS\u001b[38;2;220;71;178mu\u001b[38;2;95;151;97mb\u001b[38;2;178;141;216ms\u001b[38;2;79;165;189mc\u001b[38;2;181;99;218mr\u001b[38;2;140;88;120mi\u001b[38;2;76;167;195mb\u001b[38;2;106;77;132me\u001b[38;2;145;214;187m \u001b[38;2;217;220;80mt\u001b[38;2;182;70;189mo\u001b[38;2;196;151;190m \u001b[38;2;188;122;117mF\u001b[38;2;87;203;197mo\u001b[38;2;171;152;136mr\u001b[38;2;139;77;135mt\u001b[38;2;116;209;140mu\u001b[38;2;217;201;86mn\u001b[38;2;125;114;197me\u001b[38;2;121;111;124mE\u001b[38;2;114;192;73mi\u001b[38;2;146;181;129mg\u001b[38;2;177;119;64mh\u001b[38;2;175;164;197mt\n",
      "\u001b[38;2;159;159;161mI\u001b[38;2;88;71;87mt\u001b[38;2;146;147;196m \u001b[38;2;120;98;148mr\u001b[38;2;133;89;186me\u001b[38;2;139;173;183ma\u001b[38;2;65;83;190ml\u001b[38;2;193;219;132ml\u001b[38;2;104;136;98my\u001b[38;2;194;141;108m \u001b[38;2;134;85;165mh\u001b[38;2;148;108;212me\u001b[38;2;150;102;122ml\u001b[38;2;143;162;137mp\u001b[38;2;142;210;156ms\u001b[38;2;156;134;128m \u001b[38;2;102;119;196mm\u001b[38;2;88;90;94me\u001b[38;2;164;70;84m \u001b[38;2;146;120;106mo\u001b[38;2;176;89;193mu\u001b[38;2;148;73;121mt\u001b[38;2;102;103;97m \u001b[38;2;159;139;107ma\u001b[38;2;108;104;149m \u001b[38;2;162;216;199mt\u001b[38;2;180;122;217mo\u001b[38;2;136;203;82mn\u001b[38;2;95;78;142m!\n"
     ]
    }
   ],
   "source": [
    "fg_print_rnd_char_clrs(\"Subscribe to FortuneEight\")\n",
    "fg_print_rnd_char_clrs(\"It really helps me out a ton!\")"
   ]
  }
 ],
 "metadata": {
  "interpreter": {
   "hash": "141a11ca8e697ae01f1e802748090677a6ea4f99c5f8c14f4bb0cd9308c420e3"
  },
  "kernelspec": {
   "display_name": "Python 3.9.4 64-bit",
   "language": "python",
   "name": "python3"
  },
  "language_info": {
   "codemirror_mode": {
    "name": "ipython",
    "version": 3
   },
   "file_extension": ".py",
   "mimetype": "text/x-python",
   "name": "python",
   "nbconvert_exporter": "python",
   "pygments_lexer": "ipython3",
   "version": "3.9.4"
  },
  "orig_nbformat": 4
 },
 "nbformat": 4,
 "nbformat_minor": 2
}
