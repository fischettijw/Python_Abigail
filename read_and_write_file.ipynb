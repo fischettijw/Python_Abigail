{
 "cells": [
  {
   "cell_type": "code",
   "execution_count": null,
   "metadata": {},
   "outputs": [],
   "source": [
    "# https://generatedata.com/generator\n",
    "# https://www.youtube.com/watch?v=gSbEXZvgyBw\n",
    "# https://www.youtube.com/watch?v=0C2405R-uGk&t=193s\n",
    "# https://www.youtube.com/watch?v=5CEsJkKhS78              NOY USED"
   ]
  },
  {
   "cell_type": "code",
   "execution_count": null,
   "metadata": {},
   "outputs": [],
   "source": [
    "file = open(\"RandomData-10.csv\", \"r\")\n",
    "data = file.readlines()\n",
    "file.close()\n",
    "print(data)\n",
    "print()"
   ]
  },
  {
   "cell_type": "code",
   "execution_count": null,
   "metadata": {},
   "outputs": [],
   "source": [
    "# Using readline()\n",
    "file_by_line = open(\"RandomData-10.csv\", 'r')\n",
    "count = 0\n",
    " \n",
    "while True:\n",
    "    count += 1\n",
    " \n",
    "    # Get next line from file\n",
    "    line = file_by_line.readline()\n",
    " \n",
    "    # if line is empty\n",
    "    # end of file is reached\n",
    "    if not line:\n",
    "        break\n",
    "    # print(\"Line{}: {}\".format(count, line.strip()))\n",
    "    print(f\"Line{count}: {line}\")\n",
    " \n",
    "file_by_line.close()"
   ]
  },
  {
   "cell_type": "code",
   "execution_count": null,
   "metadata": {},
   "outputs": [],
   "source": [
    "# https://www.w3schools.com/python/python_file_write.asp"
   ]
  },
  {
   "cell_type": "code",
   "execution_count": null,
   "metadata": {},
   "outputs": [],
   "source": [
    "file = open(\"Abigail_Output.csv\", \"w\")\n",
    "for person in data:\n",
    "    file.write(person)\n",
    "    print(person)\n",
    "file.close()"
   ]
  }
 ],
 "metadata": {
  "interpreter": {
   "hash": "288070398f45af6aae33d529c7e9db1ce79ecc667978a0f3e9983dc28be894b0"
  },
  "kernelspec": {
   "display_name": "Python 3.10.0 64-bit",
   "language": "python",
   "name": "python3"
  },
  "language_info": {
   "codemirror_mode": {
    "name": "ipython",
    "version": 3
   },
   "file_extension": ".py",
   "mimetype": "text/x-python",
   "name": "python",
   "nbconvert_exporter": "python",
   "pygments_lexer": "ipython3",
   "version": "3.10.0"
  },
  "orig_nbformat": 4
 },
 "nbformat": 4,
 "nbformat_minor": 2
}
