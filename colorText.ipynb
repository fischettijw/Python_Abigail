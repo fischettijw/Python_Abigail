{
 "cells": [
  {
   "cell_type": "code",
   "execution_count": 11,
   "metadata": {},
   "outputs": [],
   "source": [
    "# RGB Color Wheel    https://www.colorspire.com/rgb-color-wheel/\n",
    "# RGB Color Names    https://flaviocopes.com/rgb-color-codes/\n",
    "# Snippet Generator  https://snippet-generator.app/"
   ]
  },
  {
   "cell_type": "code",
   "execution_count": 12,
   "metadata": {},
   "outputs": [],
   "source": [
    "from sty import fg, bg "
   ]
  },
  {
   "cell_type": "code",
   "execution_count": 13,
   "metadata": {},
   "outputs": [
    {
     "name": "stdout",
     "output_type": "stream",
     "text": [
      "This is BEFORE colors\n",
      "\u001b[38;2;255;0;0m\n",
      "This should be RED!\n",
      "It will continue to be RED \u001b[39m\n",
      "until it's reset.\n"
     ]
    }
   ],
   "source": [
    "print(\"This is BEFORE colors\")\n",
    "print(fg(255,0,0))\n",
    "print('This should be RED!')\n",
    "print('It will continue to be RED', fg.rs)\n",
    "print(\"until it's reset.\")"
   ]
  },
  {
   "cell_type": "code",
   "execution_count": 14,
   "metadata": {},
   "outputs": [
    {
     "name": "stdout",
     "output_type": "stream",
     "text": [
      "This is BEFORE colors\n",
      "\u001b[38;2;255;0;0m Hello RED \u001b[39m\n",
      "again\n"
     ]
    }
   ],
   "source": [
    "print(\"This is BEFORE colors\")\n",
    "print(fg(255,0,0), 'Hello RED', fg.rs)\n",
    "print('again')"
   ]
  },
  {
   "cell_type": "markdown",
   "metadata": {},
   "source": [
    "<h1 style=\"color:yellow\">\n",
    "<center>\n",
    "Define VARIABLES with your own COLORS\n",
    "<center>\n",
    "</h1>"
   ]
  },
  {
   "cell_type": "code",
   "execution_count": 15,
   "metadata": {},
   "outputs": [],
   "source": [
    "clr_red = fg(255, 0, 0)\n",
    "clr_green = fg(0, 255, 0)\n",
    "clr_blue = fg(0, 0, 255)\n",
    "clr_magenta = fg(255, 0, 255)\n",
    "clr_yellow = fg(255, 255, 0)\n",
    "clr_cyan = fg(0, 255, 255)\n",
    "\n",
    "clr_black = fg(0,0,0)\n",
    "clr_white = fg(255,255,255)\n",
    "\n",
    "clr_light_coral = fg(240,128,128)"
   ]
  },
  {
   "cell_type": "code",
   "execution_count": 16,
   "metadata": {},
   "outputs": [
    {
     "name": "stdout",
     "output_type": "stream",
     "text": [
      "\u001b[38;2;255;255;255m My name is Abigail Lightle\n",
      "\u001b[38;2;0;0;0m My name is Abigail Lightle\n",
      "\u001b[38;2;0;255;0m My name is Abigail Lightle\n",
      "\u001b[38;2;240;128;128m My name is Abigail Lightle\n"
     ]
    }
   ],
   "source": [
    "print(clr_white, \"My name is Abigail Lightle\")\n",
    "print(clr_black, \"My name is Abigail Lightle\")\n",
    "print(clr_green, \"My name is Abigail Lightle\")\n",
    "print(clr_light_coral, \"My name is Abigail Lightle\")"
   ]
  },
  {
   "cell_type": "code",
   "execution_count": 17,
   "metadata": {},
   "outputs": [],
   "source": [
    "import random\n",
    "from random import randint as rnd\n",
    "\n",
    "def fgRandom():\n",
    "    return fg(rnd(0,255),rnd(0,255),rnd(0,255))\n",
    "\n",
    "def bgRandom():\n",
    "    return bg(rnd(0,255),rnd(0,255),rnd(0,255))\n",
    "    "
   ]
  },
  {
   "cell_type": "code",
   "execution_count": 18,
   "metadata": {},
   "outputs": [
    {
     "name": "stdout",
     "output_type": "stream",
     "text": [
      "\u001b[38;2;176;105;44m This is a RANDOM color \u001b[39m\n"
     ]
    }
   ],
   "source": [
    "print(fgRandom(), \"This is a RANDOM color\", fg.rs)"
   ]
  },
  {
   "cell_type": "code",
   "execution_count": 19,
   "metadata": {},
   "outputs": [
    {
     "name": "stdout",
     "output_type": "stream",
     "text": [
      "\u001b[48;2;233;13;93m This is a RANDOM Baclground \u001b[49m\n",
      "\u001b[48;2;69;163;123m \u001b[38;2;41;222;253m This is a RANDOM Foreground & Baclground  \u001b[39m \u001b[49m\n"
     ]
    }
   ],
   "source": [
    "print(bgRandom(), \"This is a RANDOM Baclground\", bg.rs)\n",
    "print(bgRandom(), fgRandom(), \"This is a RANDOM Foreground & Baclground \", fg.rs, bg.rs)\n"
   ]
  },
  {
   "cell_type": "code",
   "execution_count": 20,
   "metadata": {},
   "outputs": [
    {
     "name": "stdout",
     "output_type": "stream",
     "text": [
      "\u001b[48;2;7;120;144m \u001b[38;2;174;11;120m This is a RANDOM color \u001b[39m \u001b[49m\n",
      "\u001b[48;2;128;196;91m \u001b[38;2;80;98;72m This is a RANDOM color \u001b[39m \u001b[49m\n",
      "\u001b[48;2;241;134;62m \u001b[38;2;176;205;240m This is a RANDOM color \u001b[39m \u001b[49m\n",
      "\u001b[48;2;197;251;72m \u001b[38;2;109;198;74m This is a RANDOM color \u001b[39m \u001b[49m\n",
      "\u001b[48;2;195;175;64m \u001b[38;2;33;111;20m This is a RANDOM color \u001b[39m \u001b[49m\n",
      "\u001b[48;2;53;103;216m \u001b[38;2;95;28;255m This is a RANDOM color \u001b[39m \u001b[49m\n",
      "\u001b[48;2;147;150;77m \u001b[38;2;56;99;165m This is a RANDOM color \u001b[39m \u001b[49m\n",
      "\u001b[48;2;47;227;245m \u001b[38;2;244;173;37m This is a RANDOM color \u001b[39m \u001b[49m\n",
      "\u001b[48;2;146;161;240m \u001b[38;2;47;181;137m This is a RANDOM color \u001b[39m \u001b[49m\n",
      "\u001b[48;2;185;165;209m \u001b[38;2;145;49;107m This is a RANDOM color \u001b[39m \u001b[49m\n",
      "\n",
      "Hello World\n"
     ]
    }
   ],
   "source": [
    "for clr in range(10):\n",
    "    print(bgRandom(),fgRandom(), \"This is a RANDOM color\", fg.rs  , bg.rs)\n",
    "\n",
    "print()\n",
    "print(\"Hello World\")"
   ]
  }
 ],
 "metadata": {
  "interpreter": {
   "hash": "0fa967826f0dff7bf43157b69b27c7e94f9cd8758e5f7e883b18ae704008f0e9"
  },
  "kernelspec": {
   "display_name": "Python 3.9.4 64-bit",
   "language": "python",
   "name": "python3"
  },
  "language_info": {
   "codemirror_mode": {
    "name": "ipython",
    "version": 3
   },
   "file_extension": ".py",
   "mimetype": "text/x-python",
   "name": "python",
   "nbconvert_exporter": "python",
   "pygments_lexer": "ipython3",
   "version": "3.10.0"
  },
  "orig_nbformat": 4
 },
 "nbformat": 4,
 "nbformat_minor": 2
}
