{
 "cells": [
  {
   "cell_type": "markdown",
   "metadata": {},
   "source": [
    "https://generatedata.com/generator"
   ]
  },
  {
   "cell_type": "code",
   "execution_count": 44,
   "metadata": {},
   "outputs": [
    {
     "name": "stdout",
     "output_type": "stream",
     "text": [
      "Abigail\n",
      "g\n",
      "7\n",
      "Abi\n",
      "Abigail\n",
      "igai\n",
      "Abi\n",
      "gail\n",
      "Abigail\n"
     ]
    }
   ],
   "source": [
    "name = 'Abigail'\n",
    "print(name)\n",
    "print(name[3])\n",
    "print(len(name))\n",
    "print(name[0:3])  #Slice\n",
    "print(name[0:7])\n",
    "print(name[2:6])\n",
    "print(name[:3])\n",
    "print(name[3:])\n",
    "print(name[:3] + name[3:])"
   ]
  },
  {
   "cell_type": "code",
   "execution_count": 45,
   "metadata": {},
   "outputs": [],
   "source": [
    "file = open(\"RandomData-10.csv\", \"r\")\n",
    "data = file.readlines()\n",
    "file.close()\n"
   ]
  },
  {
   "cell_type": "code",
   "execution_count": 46,
   "metadata": {},
   "outputs": [
    {
     "name": "stdout",
     "output_type": "stream",
     "text": [
      "['Name,Grade,Age,Color\\n', 'Cain Brady,3,6,#e87876\\n', 'Hall Haynes,3,10,#e2bb5f\\n', 'Wyoming Mosley,6,8,#45c0d8\\n', 'Jameson Conner,2,11,#2a24d6\\n', 'Kitra Emerson,1,7,#d957f9\\n', 'Camilla Lara,6,13,#68d686\\n', 'Mannix Morin,8,12,#25468e\\n', 'Brody Oliver,3,12,#65ba1b\\n', 'Lance Mendoza,4,8,#c65e03\\n', 'Illana Ramos,4,11,#cec512\\n']\n"
     ]
    }
   ],
   "source": [
    "print(data)"
   ]
  },
  {
   "cell_type": "code",
   "execution_count": 47,
   "metadata": {},
   "outputs": [
    {
     "name": "stdout",
     "output_type": "stream",
     "text": [
      "Name,Grade,Age,Color\n",
      "\n",
      "Cain Brady,3,6,#e87876\n",
      "\n"
     ]
    }
   ],
   "source": [
    "print(data[0])\n",
    "print(data[1])"
   ]
  },
  {
   "cell_type": "code",
   "execution_count": 48,
   "metadata": {},
   "outputs": [
    {
     "name": "stdout",
     "output_type": "stream",
     "text": [
      "Name,Grade,Age,Color\n",
      "\n",
      "Cain Brady,3,6,#e87876\n",
      "\n",
      "Hall Haynes,3,10,#e2bb5f\n",
      "\n",
      "Wyoming Mosley,6,8,#45c0d8\n",
      "\n",
      "Jameson Conner,2,11,#2a24d6\n",
      "\n",
      "Kitra Emerson,1,7,#d957f9\n",
      "\n",
      "Camilla Lara,6,13,#68d686\n",
      "\n",
      "Mannix Morin,8,12,#25468e\n",
      "\n",
      "Brody Oliver,3,12,#65ba1b\n",
      "\n",
      "Lance Mendoza,4,8,#c65e03\n",
      "\n",
      "Illana Ramos,4,11,#cec512\n",
      "\n"
     ]
    }
   ],
   "source": [
    "for row in data:\n",
    "    print(row)"
   ]
  },
  {
   "cell_type": "code",
   "execution_count": 49,
   "metadata": {},
   "outputs": [
    {
     "name": "stdout",
     "output_type": "stream",
     "text": [
      "Name,Grade,Age,Color\n",
      "Cain Brady,3,6,#e87876\n",
      "Hall Haynes,3,10,#e2bb5f\n",
      "Wyoming Mosley,6,8,#45c0d8\n",
      "Jameson Conner,2,11,#2a24d6\n",
      "Kitra Emerson,1,7,#d957f9\n",
      "Camilla Lara,6,13,#68d686\n",
      "Mannix Morin,8,12,#25468e\n",
      "Brody Oliver,3,12,#65ba1b\n",
      "Lance Mendoza,4,8,#c65e03\n",
      "Illana Ramos,4,11,#cec512\n"
     ]
    }
   ],
   "source": [
    "for row in data:\n",
    "    print(row[0:len(row)-1])"
   ]
  },
  {
   "cell_type": "code",
   "execution_count": 52,
   "metadata": {},
   "outputs": [
    {
     "name": "stdout",
     "output_type": "stream",
     "text": [
      "Cain Brady,3,6,#e87876\n",
      "\n"
     ]
    }
   ],
   "source": [
    "print(data[1])"
   ]
  },
  {
   "cell_type": "code",
   "execution_count": 53,
   "metadata": {},
   "outputs": [
    {
     "name": "stdout",
     "output_type": "stream",
     "text": [
      "Cain Brady\n"
     ]
    }
   ],
   "source": [
    "name = data[1].split(',')[0]\n",
    "print(name)"
   ]
  },
  {
   "cell_type": "code",
   "execution_count": 51,
   "metadata": {},
   "outputs": [
    {
     "name": "stdout",
     "output_type": "stream",
     "text": [
      "Cain Brady\n",
      "3\n",
      "6\n",
      "#e87876\n",
      "\n"
     ]
    }
   ],
   "source": [
    "name = data[1].split(',')[0]\n",
    "grade = data[1].split(',')[1]\n",
    "age = data[1].split(',')[2]\n",
    "color = data[1].split(',')[3]\n",
    "\n",
    "print(name)\n",
    "print(grade)\n",
    "print(age)\n",
    "print(color)    "
   ]
  },
  {
   "cell_type": "code",
   "execution_count": null,
   "metadata": {},
   "outputs": [],
   "source": []
  }
 ],
 "metadata": {
  "interpreter": {
   "hash": "0fa967826f0dff7bf43157b69b27c7e94f9cd8758e5f7e883b18ae704008f0e9"
  },
  "kernelspec": {
   "display_name": "Python 3.9.4 64-bit",
   "name": "python3"
  },
  "language_info": {
   "codemirror_mode": {
    "name": "ipython",
    "version": 3
   },
   "file_extension": ".py",
   "mimetype": "text/x-python",
   "name": "python",
   "nbconvert_exporter": "python",
   "pygments_lexer": "ipython3",
   "version": "3.9.4"
  },
  "orig_nbformat": 4
 },
 "nbformat": 4,
 "nbformat_minor": 2
}
