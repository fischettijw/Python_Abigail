{
 "cells": [
  {
   "cell_type": "markdown",
   "metadata": {},
   "source": [
    "https://generatedata.com/generator"
   ]
  },
  {
   "cell_type": "code",
   "execution_count": 53,
   "metadata": {},
   "outputs": [
    {
     "name": "stdout",
     "output_type": "stream",
     "text": [
      "Abigail\n",
      "7\n",
      "Abi\n",
      "Abigail\n",
      "igai\n",
      "Abi\n",
      "gail\n"
     ]
    }
   ],
   "source": [
    "name = 'Abigail'\n",
    "print(name)\n",
    "print(len(name))\n",
    "print(name[0:3])  #Slice\n",
    "print(name[0:7])\n",
    "print(name[2:6])\n",
    "print(name[:3])\n",
    "print(name[3:])"
   ]
  },
  {
   "cell_type": "code",
   "execution_count": 50,
   "metadata": {},
   "outputs": [],
   "source": [
    "file1 = open(\"RandomData-10.csv\", \"r\")\n",
    "data = file1.readlines()\n",
    "file1.close()\n"
   ]
  },
  {
   "cell_type": "code",
   "execution_count": 51,
   "metadata": {},
   "outputs": [
    {
     "name": "stdout",
     "output_type": "stream",
     "text": [
      "['Name,Grade,Age,Color\\n', 'Cain Brady,3,6,#e87876\\n', 'Hall Haynes,3,10,#e2bb5f\\n', 'Wyoming Mosley,6,8,#45c0d8\\n', 'Jameson Conner,2,11,#2a24d6\\n', 'Kitra Emerson,1,7,#d957f9\\n', 'Camilla Lara,6,13,#68d686\\n', 'Mannix Morin,8,12,#25468e\\n', 'Brody Oliver,3,12,#65ba1b\\n', 'Lance Mendoza,4,8,#c65e03\\n', 'Illana Ramos,4,11,#cec512\\n']\n"
     ]
    }
   ],
   "source": [
    "print(data)"
   ]
  },
  {
   "cell_type": "code",
   "execution_count": 52,
   "metadata": {},
   "outputs": [
    {
     "name": "stdout",
     "output_type": "stream",
     "text": [
      "Name,Grade,Age,Color\n",
      "\n",
      "Cain Brady,3,6,#e87876\n",
      "\n",
      "Hall Haynes,3,10,#e2bb5f\n",
      "\n",
      "Wyoming Mosley,6,8,#45c0d8\n",
      "\n",
      "Jameson Conner,2,11,#2a24d6\n",
      "\n",
      "Kitra Emerson,1,7,#d957f9\n",
      "\n",
      "Camilla Lara,6,13,#68d686\n",
      "\n",
      "Mannix Morin,8,12,#25468e\n",
      "\n",
      "Brody Oliver,3,12,#65ba1b\n",
      "\n",
      "Lance Mendoza,4,8,#c65e03\n",
      "\n",
      "Illana Ramos,4,11,#cec512\n",
      "\n"
     ]
    }
   ],
   "source": [
    "for row in data:\n",
    "    print(row)"
   ]
  },
  {
   "cell_type": "code",
   "execution_count": 28,
   "metadata": {},
   "outputs": [
    {
     "name": "stdout",
     "output_type": "stream",
     "text": [
      "Name,Grade,Age,Color\n",
      "Cain Brady,3,6,#e87876\n",
      "Hall Haynes,3,10,#e2bb5f\n",
      "Wyoming Mosley,6,8,#45c0d8\n",
      "Jameson Conner,2,11,#2a24d6\n",
      "Kitra Emerson,1,7,#d957f9\n",
      "Camilla Lara,6,13,#68d686\n",
      "Mannix Morin,8,12,#25468e\n",
      "Brody Oliver,3,12,#65ba1b\n",
      "Lance Mendoza,4,8,#c65e03\n",
      "Illana Ramos,4,11,#cec512\n"
     ]
    }
   ],
   "source": [
    "for row in data:\n",
    "    print(row[0:len(row)-1])"
   ]
  }
 ],
 "metadata": {
  "interpreter": {
   "hash": "0fa967826f0dff7bf43157b69b27c7e94f9cd8758e5f7e883b18ae704008f0e9"
  },
  "kernelspec": {
   "display_name": "Python 3.9.4 64-bit",
   "name": "python3"
  },
  "language_info": {
   "codemirror_mode": {
    "name": "ipython",
    "version": 3
   },
   "file_extension": ".py",
   "mimetype": "text/x-python",
   "name": "python",
   "nbconvert_exporter": "python",
   "pygments_lexer": "ipython3",
   "version": "3.9.4"
  },
  "orig_nbformat": 4
 },
 "nbformat": 4,
 "nbformat_minor": 2
}
